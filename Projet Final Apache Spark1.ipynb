{
 "cells": [
  {
   "cell_type": "markdown",
   "id": "ea7c8cbb",
   "metadata": {},
   "source": [
    "NOM Etudiant:ISMAIL ABDILLAHI AHMED\n",
    "Classe:M1RSI online"
   ]
  },
  {
   "cell_type": "markdown",
   "id": "a080ccd8",
   "metadata": {},
   "source": [
    "Description\n",
    "Ce projet consiste à utiliser Apache Spark pour faire l'analyse et le traitement des données de **[San Francisco Fire Department Calls ](https://data.sfgov.org/Public-Safety/Fire-Department-Calls-for-Service/nuek-vuh3)** afin de fournir quelques KPI (*Key Performance Indicator*). Le **SF Fire Dataset** comprend les réponses aux appels de toutes les unités d'incendie. Chaque enregistrement comprend le numéro d'appel, le numéro d'incident, l'adresse, l'identifiant de l'unité, le type d'appel et la disposition. Tous les intervalles de temps pertinents sont également inclus. Étant donné que ce Dataset est basé sur les réponses et que la plupart des appels impliquent plusieurs unités, ainsi il existe plusieurs enregistrements pour chaque numéro d'appel. Les adresses sont associées à un numéro de bloc, à une intersection ou à une boîte d'appel, et non à une adresse spécifique.\n",
    "\n",
    "**Plus de details sur la description des données cliquer sur ce [lien](https://data.sfgov.org/Public-Safety/Fire-Department-Calls-for-Service/nuek-vuh3)**"
   ]
  },
  {
   "cell_type": "markdown",
   "id": "eb612d86",
   "metadata": {},
   "source": [
    "## Travail à faire.\n",
    "L'objectif de ce projet est de comprendre le **SF Fire Dataset** afin de bien répondre aux questions en utilisant les codes Spark/Scala adéquates.\n",
    "\n",
    "- Créer un repos git (public) et partager le repos avec mon mail (limahin10@gmail.com)\n",
    "- Ecrire un code lisible et bien indenté \n",
    "- N'oublier pas de mettre en commentaire la justification de vos réponses sur les cellules Markdown. \n",
    "\n",
    "\n",
    "## Note:\n",
    "- Le projet est personnel, c'est-à-dire chaque notebook ne concerne qu'un seul étudiant. \n",
    "- Deadline : **Lundi 31 Janvier 2022  à 23h 59** (Aucune de dérogation ne sera acceptée)"
   ]
  },
  {
   "cell_type": "markdown",
   "id": "19c754b3",
   "metadata": {},
   "source": [
    "### Chargement des données"
   ]
  },
  {
   "cell_type": "code",
   "execution_count": null,
   "id": "5d83b072",
   "metadata": {},
   "outputs": [],
   "source": [
    "Importation des packages Spark"
   ]
  },
  {
   "cell_type": "code",
   "execution_count": 2,
   "id": "c9a296d8",
   "metadata": {},
   "outputs": [
    {
     "data": {
      "text/plain": [
       "import org.apache.spark.sql.types._\r\n",
       "import org.apache.spark.sql.functions._\r\n",
       "import spark.implicits._\r\n"
      ]
     },
     "execution_count": 2,
     "metadata": {},
     "output_type": "execute_result"
    }
   ],
   "source": [
    "import org.apache.spark.sql.types._ \n",
    "import org.apache.spark.sql.functions._ \n",
    "import spark.implicits._"
   ]
  },
  {
   "cell_type": "code",
   "execution_count": 3,
   "id": "72cdc093",
   "metadata": {},
   "outputs": [
    {
     "data": {
      "text/plain": [
       "fireSchema: org.apache.spark.sql.types.StructType = StructType(StructField(CallNumber,IntegerType,true), StructField(UnitID,StringType,true), StructField(IncidentNumber,IntegerType,true), StructField(CallType,StringType,true), StructField(CallDate,StringType,true), StructField(WatchDate,StringType,true), StructField(CallFinalDisposition,StringType,true), StructField(AvailableDtTm,StringType,true), StructField(Address,StringType,true), StructField(City,StringType,true), StructField(Zipcode,IntegerType,true), StructField(Battalion,StringType,true), StructField(StationArea,StringType,true), StructField(Box,StringType,true), StructField(OriginalPriority,StringType,true), StructField(Priority,StringType,true), StructField(FinalPriority,IntegerType,true), StructField(ALSUnit,BooleanType,true)...\r\n"
      ]
     },
     "execution_count": 3,
     "metadata": {},
     "output_type": "execute_result"
    }
   ],
   "source": [
    "val fireSchema = StructType(Array(StructField(\"CallNumber\", IntegerType, true),\n",
    "  StructField(\"UnitID\", StringType, true),\n",
    "  StructField(\"IncidentNumber\", IntegerType, true),\n",
    "  StructField(\"CallType\", StringType, true),                  \n",
    "  StructField(\"CallDate\", StringType, true),      \n",
    "  StructField(\"WatchDate\", StringType, true),\n",
    "  StructField(\"CallFinalDisposition\", StringType, true),\n",
    "  StructField(\"AvailableDtTm\", StringType, true),\n",
    "  StructField(\"Address\", StringType, true),       \n",
    "  StructField(\"City\", StringType, true),       \n",
    "  StructField(\"Zipcode\", IntegerType, true),       \n",
    "  StructField(\"Battalion\", StringType, true),                 \n",
    "  StructField(\"StationArea\", StringType, true),       \n",
    "  StructField(\"Box\", StringType, true),       \n",
    "  StructField(\"OriginalPriority\", StringType, true),       \n",
    "  StructField(\"Priority\", StringType, true),       \n",
    "  StructField(\"FinalPriority\", IntegerType, true),       \n",
    "  StructField(\"ALSUnit\", BooleanType, true),       \n",
    "  StructField(\"CallTypeGroup\", StringType, true),\n",
    "  StructField(\"NumAlarms\", IntegerType, true),\n",
    "  StructField(\"UnitType\", StringType, true),\n",
    "  StructField(\"UnitSequenceInCallDispatch\", IntegerType, true),\n",
    "  StructField(\"FirePreventionDistrict\", StringType, true),\n",
    "  StructField(\"SupervisorDistrict\", StringType, true),\n",
    "  StructField(\"Neighborhood\", StringType, true),\n",
    "  StructField(\"Location\", StringType, true),\n",
    "  StructField(\"RowID\", StringType, true),\n",
    "  StructField(\"Delay\", FloatType, true)))"
   ]
  },
  {
   "cell_type": "code",
   "execution_count": 4,
   "id": "4e8c9aa8",
   "metadata": {},
   "outputs": [
    {
     "data": {
      "text/plain": [
       "import org.apache.spark.sql.types._\r\n",
       "import org.apache.spark.sql.Row\r\n"
      ]
     },
     "execution_count": 4,
     "metadata": {},
     "output_type": "execute_result"
    }
   ],
   "source": [
    "import org.apache.spark.sql.types._ \n",
    "import org.apache.spark.sql.Row\n"
   ]
  },
  {
   "cell_type": "code",
   "execution_count": 5,
   "id": "d9e9c925",
   "metadata": {},
   "outputs": [
    {
     "data": {
      "text/plain": [
       "sfFireFile: String = datasets/sf-fire-calls.csv\r\n",
       "fireDF: org.apache.spark.sql.DataFrame = [CallNumber: int, UnitID: string ... 26 more fields]\r\n"
      ]
     },
     "execution_count": 5,
     "metadata": {},
     "output_type": "execute_result"
    }
   ],
   "source": [
    "// Charger le dataset\n",
    "val sfFireFile = \"datasets/sf-fire-calls.csv\"\n",
    "val fireDF = spark\n",
    "  .read\n",
    "  .schema(fireSchema)\n",
    "  .option(\"header\", \"true\")\n",
    "  .csv(sfFireFile)"
   ]
  },
  {
   "cell_type": "code",
   "execution_count": 6,
   "id": "3b3706e8",
   "metadata": {},
   "outputs": [
    {
     "data": {
      "text/plain": [
       "res0: fireDF.type = [CallNumber: int, UnitID: string ... 26 more fields]\r\n"
      ]
     },
     "execution_count": 6,
     "metadata": {},
     "output_type": "execute_result"
    }
   ],
   "source": [
    "fireDF.cache()"
   ]
  },
  {
   "cell_type": "code",
   "execution_count": 7,
   "id": "d4f86a0b",
   "metadata": {},
   "outputs": [
    {
     "data": {
      "text/plain": [
       "res1: Long = 175296\r\n"
      ]
     },
     "execution_count": 7,
     "metadata": {},
     "output_type": "execute_result"
    }
   ],
   "source": [
    "fireDF.count()"
   ]
  },
  {
   "cell_type": "code",
   "execution_count": 8,
   "id": "8444c378",
   "metadata": {},
   "outputs": [
    {
     "name": "stdout",
     "output_type": "stream",
     "text": [
      "root\n",
      " |-- CallNumber: integer (nullable = true)\n",
      " |-- UnitID: string (nullable = true)\n",
      " |-- IncidentNumber: integer (nullable = true)\n",
      " |-- CallType: string (nullable = true)\n",
      " |-- CallDate: string (nullable = true)\n",
      " |-- WatchDate: string (nullable = true)\n",
      " |-- CallFinalDisposition: string (nullable = true)\n",
      " |-- AvailableDtTm: string (nullable = true)\n",
      " |-- Address: string (nullable = true)\n",
      " |-- City: string (nullable = true)\n",
      " |-- Zipcode: integer (nullable = true)\n",
      " |-- Battalion: string (nullable = true)\n",
      " |-- StationArea: string (nullable = true)\n",
      " |-- Box: string (nullable = true)\n",
      " |-- OriginalPriority: string (nullable = true)\n",
      " |-- Priority: string (nullable = true)\n",
      " |-- FinalPriority: integer (nullable = true)\n",
      " |-- ALSUnit: boolean (nullable = true)\n",
      " |-- CallTypeGroup: string (nullable = true)\n",
      " |-- NumAlarms: integer (nullable = true)\n",
      " |-- UnitType: string (nullable = true)\n",
      " |-- UnitSequenceInCallDispatch: integer (nullable = true)\n",
      " |-- FirePreventionDistrict: string (nullable = true)\n",
      " |-- SupervisorDistrict: string (nullable = true)\n",
      " |-- Neighborhood: string (nullable = true)\n",
      " |-- Location: string (nullable = true)\n",
      " |-- RowID: string (nullable = true)\n",
      " |-- Delay: float (nullable = true)\n",
      "\n"
     ]
    }
   ],
   "source": [
    "fireDF.printSchema()"
   ]
  },
  {
   "cell_type": "code",
   "execution_count": 9,
   "id": "3cee0ece",
   "metadata": {},
   "outputs": [
    {
     "name": "stdout",
     "output_type": "stream",
     "text": [
      "+----------+------+--------------+----------------+----------+----------+--------------------+--------------------+--------------------+----+-------+---------+-----------+----+----------------+--------+-------------+-------+-------------+---------+--------+--------------------------+----------------------+------------------+--------------------+--------------------+-------------+---------+\n",
      "|CallNumber|UnitID|IncidentNumber|        CallType|  CallDate| WatchDate|CallFinalDisposition|       AvailableDtTm|             Address|City|Zipcode|Battalion|StationArea| Box|OriginalPriority|Priority|FinalPriority|ALSUnit|CallTypeGroup|NumAlarms|UnitType|UnitSequenceInCallDispatch|FirePreventionDistrict|SupervisorDistrict|        Neighborhood|            Location|        RowID|    Delay|\n",
      "+----------+------+--------------+----------------+----------+----------+--------------------+--------------------+--------------------+----+-------+---------+-----------+----+----------------+--------+-------------+-------+-------------+---------+--------+--------------------------+----------------------+------------------+--------------------+--------------------+-------------+---------+\n",
      "|  20110016|   T13|       2003235|  Structure Fire|01/11/2002|01/10/2002|               Other|01/11/2002 01:51:...|2000 Block of CAL...|  SF|  94109|      B04|         38|3362|               3|       3|            3|  false|         null|        1|   TRUCK|                         2|                     4|                 5|     Pacific Heights|(37.7895840679362...|020110016-T13|     2.95|\n",
      "|  20110022|   M17|       2003241|Medical Incident|01/11/2002|01/10/2002|               Other|01/11/2002 03:01:...|0 Block of SILVER...|  SF|  94124|      B10|         42|6495|               3|       3|            3|   true|         null|        1|   MEDIC|                         1|                    10|                10|Bayview Hunters P...|(37.7337623673897...|020110022-M17|      4.7|\n",
      "|  20110023|   M41|       2003242|Medical Incident|01/11/2002|01/10/2002|               Other|01/11/2002 02:39:...|MARKET ST/MCALLIS...|  SF|  94102|      B03|         01|1455|               3|       3|            3|   true|         null|        1|   MEDIC|                         2|                     3|                 6|          Tenderloin|(37.7811772186856...|020110023-M41|2.4333334|\n",
      "|  20110032|   E11|       2003250|    Vehicle Fire|01/11/2002|01/10/2002|               Other|01/11/2002 04:16:...|APPLETON AV/MISSI...|  SF|  94110|      B06|         32|5626|               3|       3|            3|  false|         null|        1|  ENGINE|                         1|                     6|                 9|      Bernal Heights|(37.7388432849018...|020110032-E11|      1.5|\n",
      "|  20110043|   B04|       2003259|          Alarms|01/11/2002|01/10/2002|               Other|01/11/2002 06:01:...|1400 Block of SUT...|  SF|  94109|      B04|         03|3223|               3|       3|            3|  false|         null|        1|   CHIEF|                         2|                     4|                 2|    Western Addition|(37.7872890372638...|020110043-B04|3.4833333|\n",
      "+----------+------+--------------+----------------+----------+----------+--------------------+--------------------+--------------------+----+-------+---------+-----------+----+----------------+--------+-------------+-------+-------------+---------+--------+--------------------------+----------------------+------------------+--------------------+--------------------+-------------+---------+\n",
      "only showing top 5 rows\n",
      "\n"
     ]
    }
   ],
   "source": [
    "fireDF.show(5)"
   ]
  },
  {
   "cell_type": "code",
   "execution_count": 10,
   "id": "012958c3",
   "metadata": {},
   "outputs": [
    {
     "name": "stdout",
     "output_type": "stream",
     "text": [
      "+--------------+----------------------+--------------+\n",
      "|IncidentNumber|AvailableDtTm         |CallType      |\n",
      "+--------------+----------------------+--------------+\n",
      "|2003235       |01/11/2002 01:51:44 AM|Structure Fire|\n",
      "|2003250       |01/11/2002 04:16:46 AM|Vehicle Fire  |\n",
      "|2003259       |01/11/2002 06:01:58 AM|Alarms        |\n",
      "|2003279       |01/11/2002 08:03:26 AM|Structure Fire|\n",
      "|2003301       |01/11/2002 09:46:44 AM|Alarms        |\n",
      "+--------------+----------------------+--------------+\n",
      "only showing top 5 rows\n",
      "\n"
     ]
    },
    {
     "data": {
      "text/plain": [
       "fewFireDF: org.apache.spark.sql.Dataset[org.apache.spark.sql.Row] = [IncidentNumber: int, AvailableDtTm: string ... 1 more field]\r\n"
      ]
     },
     "execution_count": 10,
     "metadata": {},
     "output_type": "execute_result"
    }
   ],
   "source": [
    "val fewFireDF = fireDF\n",
    "  .select(\"IncidentNumber\", \"AvailableDtTm\", \"CallType\") \n",
    "  .where($\"CallType\" =!= \"Medical Incident\")\n",
    "\n",
    "fewFireDF.show(5, false)"
   ]
  },
  {
   "cell_type": "markdown",
   "id": "c2a8b83d",
   "metadata": {},
   "source": [
    "Question 1\n",
    "Combien de types d'appels distincts ont été passés ?**  \n",
    "Pour être sûr, il ne faut pas compter les valeurs «nulles» dans la colonne."
   ]
  },
  {
   "cell_type": "code",
   "execution_count": 11,
   "id": "6d4397ae",
   "metadata": {},
   "outputs": [
    {
     "name": "stdout",
     "output_type": "stream",
     "text": [
      "+--------------+----------------------+--------------+\n",
      "|IncidentNumber|AvailableDtTm         |CallType      |\n",
      "+--------------+----------------------+--------------+\n",
      "|2003235       |01/11/2002 01:51:44 AM|Structure Fire|\n",
      "|2003250       |01/11/2002 04:16:46 AM|Vehicle Fire  |\n",
      "|2003259       |01/11/2002 06:01:58 AM|Alarms        |\n",
      "|2003279       |01/11/2002 08:03:26 AM|Structure Fire|\n",
      "|2003301       |01/11/2002 09:46:44 AM|Alarms        |\n",
      "+--------------+----------------------+--------------+\n",
      "only showing top 5 rows\n",
      "\n"
     ]
    },
    {
     "data": {
      "text/plain": [
       "fewFireDF: org.apache.spark.sql.Dataset[org.apache.spark.sql.Row] = [IncidentNumber: int, AvailableDtTm: string ... 1 more field]\r\n"
      ]
     },
     "execution_count": 11,
     "metadata": {},
     "output_type": "execute_result"
    }
   ],
   "source": [
    "val fewFireDF = fireDF\n",
    "  .select(\"IncidentNumber\", \"AvailableDtTm\", \"CallType\") \n",
    "  .where($\"CallType\" =!= \"Medical Incident\")\n",
    "\n",
    "fewFireDF.show(5, false)"
   ]
  },
  {
   "cell_type": "markdown",
   "id": "a19923e7",
   "metadata": {},
   "source": [
    "Quels types d'appels  ont été passés au service d'incendie?"
   ]
  },
  {
   "cell_type": "code",
   "execution_count": 12,
   "id": "e59fe685",
   "metadata": {},
   "outputs": [
    {
     "name": "stdout",
     "output_type": "stream",
     "text": [
      "+--------------------------------------------+\n",
      "|CallType                                    |\n",
      "+--------------------------------------------+\n",
      "|Elevator / Escalator Rescue                 |\n",
      "|Marine Fire                                 |\n",
      "|Aircraft Emergency                          |\n",
      "|Confined Space / Structure Collapse         |\n",
      "|Administrative                              |\n",
      "|Alarms                                      |\n",
      "|Odor (Strange / Unknown)                    |\n",
      "|Citizen Assist / Service Call               |\n",
      "|HazMat                                      |\n",
      "|Watercraft in Distress                      |\n",
      "|Explosion                                   |\n",
      "|Oil Spill                                   |\n",
      "|Vehicle Fire                                |\n",
      "|Suspicious Package                          |\n",
      "|Extrication / Entrapped (Machinery, Vehicle)|\n",
      "|Other                                       |\n",
      "|Outside Fire                                |\n",
      "|Traffic Collision                           |\n",
      "|Assist Police                               |\n",
      "|Gas Leak (Natural and LP Gases)             |\n",
      "|Water Rescue                                |\n",
      "|Electrical Hazard                           |\n",
      "|High Angle Rescue                           |\n",
      "|Structure Fire                              |\n",
      "|Industrial Accidents                        |\n",
      "|Mutual Aid / Assist Outside Agency          |\n",
      "|Fuel Spill                                  |\n",
      "|Smoke Investigation (Outside)               |\n",
      "|Train / Rail Incident                       |\n",
      "+--------------------------------------------+\n",
      "\n"
     ]
    }
   ],
   "source": [
    "// Cette methode permet de les afficher (Les types distincts de la colonne \"CallType\")\n",
    "\n",
    "/* Ici on precise 30 dans la methode .show() pour afficher les 30 \"CallType\" */\n",
    "\n",
    "fewFireDF.select(\"CallType\").distinct.show(30,false)"
   ]
  },
  {
   "cell_type": "markdown",
   "id": "cec8e99f",
   "metadata": {},
   "source": [
    "### Question 3\n",
    "\n",
    "Trouver toutes les réponses ou les délais sont supérieurs à 5 minutes?**\n",
    "\n",
    "Indication\n",
    "1. Renommer la colonne Delay -> ReponseDelayedinMins\n",
    "2. Retourner un nouveau DataFrame\n",
    "3. Afficher tous les appels où le temps de réponse à un site d'incendie a eu lieu après un retard de plus de 5 minutes"
   ]
  },
  {
   "cell_type": "code",
   "execution_count": 13,
   "id": "78dcd541",
   "metadata": {},
   "outputs": [
    {
     "name": "stdout",
     "output_type": "stream",
     "text": [
      "+---------------------+\n",
      "|ResponseDelayedinMins|\n",
      "+---------------------+\n",
      "|                 2.95|\n",
      "|                  4.7|\n",
      "|            2.4333334|\n",
      "|                  1.5|\n",
      "|            3.4833333|\n",
      "|                 1.75|\n",
      "|            2.7166667|\n",
      "|            1.7833333|\n",
      "|            1.5166667|\n",
      "|            2.7666667|\n",
      "|            2.1833334|\n",
      "|                  2.5|\n",
      "|            2.4166667|\n",
      "|                 4.95|\n",
      "|            1.4166666|\n",
      "|            2.5333333|\n",
      "|            1.8833333|\n",
      "|                 5.35|\n",
      "|                  2.0|\n",
      "|            1.8166667|\n",
      "+---------------------+\n",
      "only showing top 20 rows\n",
      "\n"
     ]
    },
    {
     "data": {
      "text/plain": [
       "newFireDF: org.apache.spark.sql.DataFrame = [CallNumber: int, UnitID: string ... 26 more fields]\r\n"
      ]
     },
     "execution_count": 13,
     "metadata": {},
     "output_type": "execute_result"
    }
   ],
   "source": [
    "// Renommons la colonne ~Delay~ en ~ReponseDelaydinmins~, puis retournons un nouveau df\n",
    "val newFireDF = fireDF.withColumnRenamed(\"Delay\", \"ResponseDelayedinMins\")\n",
    "\n",
    "\n",
    "newFireDF.select(\"ResponseDelayedinMins\").show()\n",
    "val newFireDF1 = newFireDF.withColumn(\"Reponse_gt_5\", col(\"ReponseDelayedinMins\").gt(5))0\n",
    "\n",
    "newFireDF1.select(\n",
    "    \"ReponseDelayedinMins\",\n",
    "    \"Reponse_gt_5\"\n",
    ").show\n"
   ]
  },
  {
   "cell_type": "code",
   "execution_count": 14,
   "id": "d591df43",
   "metadata": {},
   "outputs": [
    {
     "data": {
      "text/plain": [
       "fireTSDF: org.apache.spark.sql.DataFrame = [CallNumber: int, UnitID: string ... 26 more fields]\r\n",
       "res8: fireTSDF.type = [CallNumber: int, UnitID: string ... 26 more fields]\r\n"
      ]
     },
     "execution_count": 14,
     "metadata": {},
     "output_type": "execute_result"
    }
   ],
   "source": [
    "val fireTSDF = newFireDF\n",
    "  .withColumn(\"IncidentDate\", to_timestamp(col(\"CallDate\"), \"MM/dd/yyyy\")).drop(\"CallDate\") \n",
    "  .withColumn(\"OnWatchDate\", to_timestamp(col(\"WatchDate\"), \"MM/dd/yyyy\")).drop(\"WatchDate\") \n",
    "  .withColumn(\"AvailableDtTS\", to_timestamp(col(\"AvailableDtTm\"), \"MM/dd/yyyy hh:mm:ss a\")).drop(\"AvailableDtTm\")\n",
    "\n",
    "fireTSDF.cache()"
   ]
  },
  {
   "cell_type": "code",
   "execution_count": 15,
   "id": "0aff744a",
   "metadata": {},
   "outputs": [
    {
     "name": "stdout",
     "output_type": "stream",
     "text": [
      "+-------------------+-------------------+-------------------+\n",
      "|       IncidentDate|        OnWatchDate|      AvailableDtTS|\n",
      "+-------------------+-------------------+-------------------+\n",
      "|2002-01-11 00:00:00|2002-01-10 00:00:00|2002-01-11 01:51:44|\n",
      "|2002-01-11 00:00:00|2002-01-10 00:00:00|2002-01-11 03:01:18|\n",
      "|2002-01-11 00:00:00|2002-01-10 00:00:00|2002-01-11 02:39:50|\n",
      "|2002-01-11 00:00:00|2002-01-10 00:00:00|2002-01-11 04:16:46|\n",
      "|2002-01-11 00:00:00|2002-01-10 00:00:00|2002-01-11 06:01:58|\n",
      "|2002-01-11 00:00:00|2002-01-11 00:00:00|2002-01-11 08:03:26|\n",
      "|2002-01-11 00:00:00|2002-01-11 00:00:00|2002-01-11 09:46:44|\n",
      "|2002-01-11 00:00:00|2002-01-11 00:00:00|2002-01-11 09:58:53|\n",
      "|2002-01-11 00:00:00|2002-01-11 00:00:00|2002-01-11 12:06:57|\n",
      "|2002-01-11 00:00:00|2002-01-11 00:00:00|2002-01-11 13:08:40|\n",
      "|2002-01-11 00:00:00|2002-01-11 00:00:00|2002-01-11 15:31:02|\n",
      "|2002-01-11 00:00:00|2002-01-11 00:00:00|2002-01-11 14:59:04|\n",
      "|2002-01-11 00:00:00|2002-01-11 00:00:00|2002-01-11 16:22:49|\n",
      "|2002-01-11 00:00:00|2002-01-11 00:00:00|2002-01-11 16:18:33|\n",
      "|2002-01-11 00:00:00|2002-01-11 00:00:00|2002-01-11 16:09:08|\n",
      "|2002-01-11 00:00:00|2002-01-11 00:00:00|2002-01-11 16:09:08|\n",
      "|2002-01-11 00:00:00|2002-01-11 00:00:00|2002-01-11 16:09:08|\n",
      "|2002-01-11 00:00:00|2002-01-11 00:00:00|2002-01-11 16:34:23|\n",
      "|2002-01-11 00:00:00|2002-01-11 00:00:00|2002-01-11 16:51:31|\n",
      "|2002-01-11 00:00:00|2002-01-11 00:00:00|2002-01-11 16:51:12|\n",
      "+-------------------+-------------------+-------------------+\n",
      "only showing top 20 rows\n",
      "\n"
     ]
    }
   ],
   "source": [
    "fireTSDF.select(\n",
    "    \"IncidentDate\",\n",
    "    \"OnWatchDate\",\n",
    "    \"AvailableDtTS\"\n",
    ").show"
   ]
  },
  {
   "cell_type": "markdown",
   "id": "7b06e55e",
   "metadata": {},
   "source": [
    "### Question 4\n",
    "Quels sont les types d'appels les plus courants?**"
   ]
  },
  {
   "cell_type": "code",
   "execution_count": 16,
   "id": "5b789f09",
   "metadata": {},
   "outputs": [
    {
     "name": "stdout",
     "output_type": "stream",
     "text": [
      "+--------------------------------------------+------+\n",
      "|CallType                                    |count |\n",
      "+--------------------------------------------+------+\n",
      "|Administrative                              |3     |\n",
      "|Mutual Aid / Assist Outside Agency          |9     |\n",
      "|Confined Space / Structure Collapse         |13    |\n",
      "|Marine Fire                                 |14    |\n",
      "|Suspicious Package                          |15    |\n",
      "|Oil Spill                                   |21    |\n",
      "|Watercraft in Distress                      |28    |\n",
      "|Extrication / Entrapped (Machinery, Vehicle)|28    |\n",
      "|High Angle Rescue                           |32    |\n",
      "|Assist Police                               |35    |\n",
      "|Aircraft Emergency                          |36    |\n",
      "|Train / Rail Incident                       |57    |\n",
      "|Explosion                                   |89    |\n",
      "|Industrial Accidents                        |94    |\n",
      "|HazMat                                      |124   |\n",
      "|Fuel Spill                                  |193   |\n",
      "|Smoke Investigation (Outside)               |391   |\n",
      "|Elevator / Escalator Rescue                 |453   |\n",
      "|Electrical Hazard                           |482   |\n",
      "|Odor (Strange / Unknown)                    |490   |\n",
      "|Water Rescue                                |755   |\n",
      "|Gas Leak (Natural and LP Gases)             |764   |\n",
      "|Vehicle Fire                                |854   |\n",
      "|Outside Fire                                |2094  |\n",
      "|Other                                       |2166  |\n",
      "|Citizen Assist / Service Call               |2524  |\n",
      "|Traffic Collision                           |7013  |\n",
      "|Alarms                                      |19406 |\n",
      "|Structure Fire                              |23319 |\n",
      "|Medical Incident                            |113794|\n",
      "+--------------------------------------------+------+\n",
      "\n"
     ]
    },
    {
     "data": {
      "text/plain": [
       "countDistinctCallType: org.apache.spark.sql.DataFrame = [CallType: string, count: bigint]\r\n"
      ]
     },
     "execution_count": 16,
     "metadata": {},
     "output_type": "execute_result"
    }
   ],
   "source": [
    "// 1) On recupere le nombre de type d'appel, pour chaque type d'appel\n",
    "val countDistinctCallType =  fireTSDF.groupBy(\"CallType\").count()\n",
    "countDistinctCallType.orderBy(\"count\").show(35,false)"
   ]
  },
  {
   "cell_type": "markdown",
   "id": "9d4a92c2",
   "metadata": {},
   "source": [
    "# Question 5-a\n",
    "Quels sont boites postaux rencontrés dans les appels les plus courants?**"
   ]
  },
  {
   "cell_type": "code",
   "execution_count": 17,
   "id": "662502ce",
   "metadata": {},
   "outputs": [
    {
     "name": "stdout",
     "output_type": "stream",
     "text": [
      "+-------+-----+\n",
      "|Zipcode|count|\n",
      "+-------+-----+\n",
      "|null   |142  |\n",
      "|94129  |512  |\n",
      "|94158  |882  |\n",
      "|94130  |1100 |\n",
      "|94104  |1341 |\n",
      "|94127  |1881 |\n",
      "|94111  |2974 |\n",
      "|94131  |3236 |\n",
      "|94123  |3719 |\n",
      "|94116  |3933 |\n",
      "|94108  |4084 |\n",
      "|94105  |4236 |\n",
      "|94132  |4321 |\n",
      "|94121  |4555 |\n",
      "|94134  |5009 |\n",
      "|94118  |5157 |\n",
      "|94114  |5175 |\n",
      "|94117  |5804 |\n",
      "|94133  |6246 |\n",
      "|94122  |6355 |\n",
      "|94107  |6941 |\n",
      "|94115  |7812 |\n",
      "|94112  |8421 |\n",
      "|94124  |9236 |\n",
      "|94109  |14686|\n",
      "|94110  |14801|\n",
      "|94103  |20897|\n",
      "|94102  |21840|\n",
      "+-------+-----+\n",
      "\n"
     ]
    },
    {
     "data": {
      "text/plain": [
       "dfZipcode: org.apache.spark.sql.DataFrame = [Zipcode: int, count: bigint]\r\n"
      ]
     },
     "execution_count": 17,
     "metadata": {},
     "output_type": "execute_result"
    }
   ],
   "source": [
    "// D'abord, Le nombre Zipcode\n",
    "val dfZipcode =  fireTSDF.groupBy(\"Zipcode\").count()\n",
    "dfZipcode.orderBy(\"count\").show(40,false)"
   ]
  },
  {
   "cell_type": "markdown",
   "id": "caf663e7",
   "metadata": {},
   "source": [
    "# Question 6\n",
    "Determiner le nombre total d'appels, ainsi que la moyenne, le minimum et le maximum du temps de réponse des appels?**"
   ]
  },
  {
   "cell_type": "markdown",
   "id": "85a27c58",
   "metadata": {},
   "source": [
    " - le nombre total d'appels"
   ]
  },
  {
   "cell_type": "code",
   "execution_count": 18,
   "id": "11c3a9ec",
   "metadata": {},
   "outputs": [
    {
     "name": "stdout",
     "output_type": "stream",
     "text": [
      "+--------------------------------------------+------+\n",
      "|CallType                                    |count |\n",
      "+--------------------------------------------+------+\n",
      "|Elevator / Escalator Rescue                 |453   |\n",
      "|Marine Fire                                 |14    |\n",
      "|Aircraft Emergency                          |36    |\n",
      "|Confined Space / Structure Collapse         |13    |\n",
      "|Administrative                              |3     |\n",
      "|Alarms                                      |19406 |\n",
      "|Odor (Strange / Unknown)                    |490   |\n",
      "|Citizen Assist / Service Call               |2524  |\n",
      "|HazMat                                      |124   |\n",
      "|Watercraft in Distress                      |28    |\n",
      "|Explosion                                   |89    |\n",
      "|Oil Spill                                   |21    |\n",
      "|Vehicle Fire                                |854   |\n",
      "|Suspicious Package                          |15    |\n",
      "|Extrication / Entrapped (Machinery, Vehicle)|28    |\n",
      "|Other                                       |2166  |\n",
      "|Outside Fire                                |2094  |\n",
      "|Traffic Collision                           |7013  |\n",
      "|Assist Police                               |35    |\n",
      "|Gas Leak (Natural and LP Gases)             |764   |\n",
      "|Water Rescue                                |755   |\n",
      "|Electrical Hazard                           |482   |\n",
      "|High Angle Rescue                           |32    |\n",
      "|Structure Fire                              |23319 |\n",
      "|Industrial Accidents                        |94    |\n",
      "|Medical Incident                            |113794|\n",
      "|Mutual Aid / Assist Outside Agency          |9     |\n",
      "|Fuel Spill                                  |193   |\n",
      "|Smoke Investigation (Outside)               |391   |\n",
      "|Train / Rail Incident                       |57    |\n",
      "+--------------------------------------------+------+\n",
      "\n"
     ]
    }
   ],
   "source": [
    "\n",
    "fireTSDF.groupBy(\"CallType\").count().show(31,false)"
   ]
  },
  {
   "cell_type": "markdown",
   "id": "996d9758",
   "metadata": {},
   "source": [
    " - la moyenne, le minimum et le maximum du temps de réponse des appels"
   ]
  },
  {
   "cell_type": "code",
   "execution_count": 21,
   "id": "ec90e9c3",
   "metadata": {},
   "outputs": [
    {
     "ename": "<console>",
     "evalue": "2: error: ';' expected but ',' found.\r",
     "output_type": "error",
     "traceback": [
      "<console>:2: error: ';' expected but ',' found.\r",
      "       fireTSDF.select(\"ReponseDelayedinMins\").describe().show(),N\r",
      "                                                                ^\r",
      ""
     ]
    }
   ],
   "source": [
    "fireTSDF.select(\"ReponseDelayedinMins\").describe().show(),N"
   ]
  },
  {
   "cell_type": "markdown",
   "id": "2db3f7bc",
   "metadata": {},
   "source": [
    "# Question 7-a\n",
    "**Combien d'années distinctes trouve t-on dans ce Dataset?**  \n",
    "Dans ce dataset nous avons des données comprises entre 2000-2018. Vous pouvez utilisez la fonction Spark `year()` pour les dates en Timestamp"
   ]
  },
  {
   "cell_type": "code",
   "execution_count": 22,
   "id": "1149ad8d",
   "metadata": {},
   "outputs": [
    {
     "name": "stdout",
     "output_type": "stream",
     "text": [
      "+-----------+\n",
      "|count(year)|\n",
      "+-----------+\n",
      "|         19|\n",
      "+-----------+\n",
      "\n"
     ]
    },
    {
     "data": {
      "text/plain": [
       "fireTSDF1: org.apache.spark.sql.DataFrame = [CallNumber: int, UnitID: string ... 27 more fields]\r\n"
      ]
     },
     "execution_count": 22,
     "metadata": {},
     "output_type": "execute_result"
    }
   ],
   "source": [
    "// On cree une nouvelle colonne \"year\"\n",
    "val fireTSDF1 = fireTSDF.withColumn(\"year\", year(to_timestamp($\"IncidentDate\", \"MM/dd/yyyy\")))\n",
    "\n",
    "// On recupere tous les annees distincts par aggregation\n",
    "fireTSDF1.agg(countDistinct(\"year\")).show()"
   ]
  },
  {
   "cell_type": "markdown",
   "id": "ae7a1295",
   "metadata": {},
   "source": [
    "# Question 7-b\n",
    "**Quelle semaine de l'année 2018 a eu le plus d'appels d'incendie?**"
   ]
  },
  {
   "cell_type": "code",
   "execution_count": null,
   "id": "73a25188",
   "metadata": {},
   "outputs": [],
   "source": [
    "// Creer une colonne avec le format semaine \"week_of_year\"\n",
    "val fireTSDF2 = fireTSDF1.withColumn(\"week_of_year\", date_format(col(\"IncidentDate\"), \"w\"))\n",
    "\n",
    "// Calculer le nombre d'incident par semaine en 2018\n",
    "val dfIncidentByWeek = fireTSDF2.groupBy($\"week_of_year\",$\"IncidentDate\")\n",
    ".agg(count($\"IncidentDate\").as(\"count\"))\n",
    ".filter($\"IncidentDate\"\n",
    ".between(\"2018-01-01 00:00:00\",\"2018-12-31 00:00:00\"))\n",
    ".orderBy(desc(\"count\"))\n",
    ".show(10)"
   ]
  },
  {
   "cell_type": "markdown",
   "id": "9f3709fd",
   "metadata": {},
   "source": [
    "### Question 8\n",
    "**Quels sont les quartiers de San Francisco qui ont connu le pire temps de réponse en 2018?**"
   ]
  },
  {
   "cell_type": "markdown",
   "id": "e290861c",
   "metadata": {},
   "source": [
    " - Creer une nouvelle colonne `worst_reply_time` qui retourne `True` or `False`\n",
    " - Renvoi `True`, si le temps de reponse est inferieur a la moyenne `( < 2)`\n",
    " - Renvoi `False`, si le temps de reponse est superieur a la moyenne `( > 2)`"
   ]
  },
  {
   "cell_type": "code",
   "execution_count": null,
   "id": "0ca343bf",
   "metadata": {},
   "outputs": [],
   "source": [
    "\n",
    "fireTSDF1.withColumn(\"worst_reply_time\", col(\"ReponseDelayedinMins\") > 2 )\n",
    "  .select(\n",
    "    \"Address\",\n",
    "      \"ReponseDelayedinMins\",\n",
    "    \"worst_reply_time\",\n",
    ").show()"
   ]
  },
  {
   "cell_type": "markdown",
   "id": "4adc7449",
   "metadata": {},
   "source": [
    "### Question 9\n",
    "\n",
    "**Comment stocker les données du Dataframe sous format de fichiers Parquet?**"
   ]
  },
  {
   "cell_type": "code",
   "execution_count": null,
   "id": "ce3fddec",
   "metadata": {},
   "outputs": [],
   "source": [
    "fireTSDF1.write.parquet(\"MySparkproject.parquet\")"
   ]
  },
  {
   "cell_type": "markdown",
   "id": "79ef4c3f",
   "metadata": {},
   "source": [
    "### Question 10\n",
    "**Comment relire les données stockée en format Parquet?**"
   ]
  },
  {
   "cell_type": "code",
   "execution_count": 25,
   "id": "5f908cbc",
   "metadata": {},
   "outputs": [
    {
     "data": {
      "text/plain": [
       "parquetFileDF: org.apache.spark.sql.DataFrame = [CallNumber: int, UnitID: string ... 27 more fields]\r\n"
      ]
     },
     "execution_count": 25,
     "metadata": {},
     "output_type": "execute_result"
    }
   ],
   "source": [
    "val parquetFileDF = spark.read.parquet(\"MySparkproject.parquet\")"
   ]
  },
  {
   "cell_type": "markdown",
   "id": "7e1b1bb6",
   "metadata": {},
   "source": [
    "# FIN"
   ]
  }
 ],
 "metadata": {
  "kernelspec": {
   "display_name": "spylon-kernel",
   "language": "scala",
   "name": "spylon-kernel"
  },
  "language_info": {
   "codemirror_mode": "text/x-scala",
   "file_extension": ".scala",
   "help_links": [
    {
     "text": "MetaKernel Magics",
     "url": "https://metakernel.readthedocs.io/en/latest/source/README.html"
    }
   ],
   "mimetype": "text/x-scala",
   "name": "scala",
   "pygments_lexer": "scala",
   "version": "0.4.1"
  }
 },
 "nbformat": 4,
 "nbformat_minor": 5
}
